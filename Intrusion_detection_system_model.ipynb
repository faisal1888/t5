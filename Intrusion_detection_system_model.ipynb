{
 "cells": [
  {
   "cell_type": "code",
   "execution_count": 1,
   "metadata": {},
   "outputs": [],
   "source": [
    "import pandas as pd \n",
    "import numpy as np \n",
    "import matplotlib.pyplot as plt\n",
    "import matplotlib as mpl\n",
    "plt.style.use(\"ggplot\")\n",
    "%matplotlib inline"
   ]
  },
  {
   "cell_type": "code",
   "execution_count": 2,
   "metadata": {},
   "outputs": [],
   "source": [
    "NTP_df_clean= pd.read_csv('df_NTP_clean.csv', encoding='utf-8-sig')\n"
   ]
  },
  {
   "cell_type": "code",
   "execution_count": 3,
   "metadata": {},
   "outputs": [],
   "source": [
    "from sklearn.preprocessing import StandardScaler , MinMaxScaler\n",
    "\n",
    "scaler = StandardScaler()"
   ]
  },
  {
   "cell_type": "code",
   "execution_count": 4,
   "metadata": {},
   "outputs": [],
   "source": [
    "from sklearn.utils import resample\n"
   ]
  },
  {
   "cell_type": "markdown",
   "metadata": {},
   "source": [
    "We will be dealing with balancing the data below"
   ]
  },
  {
   "cell_type": "code",
   "execution_count": 5,
   "metadata": {},
   "outputs": [
    {
     "data": {
      "text/plain": [
       "1    7400\n",
       "0    3402\n",
       "Name:  Label, dtype: int64"
      ]
     },
     "execution_count": 5,
     "metadata": {},
     "output_type": "execute_result"
    }
   ],
   "source": [
    "DrDoS_NTP_label = NTP_df_clean[NTP_df_clean[' Label']==1]\n",
    "BENIGN_label = NTP_df_clean[NTP_df_clean[' Label']==0]\n",
    " \n",
    "# Upsample minority class\n",
    "DrDoS_NTP_sample = resample(DrDoS_NTP_label, \n",
    "                                 replace=True,     # sample with replacement\n",
    "                                 n_samples=7400,    # to match BENIGN class\n",
    "                                 random_state=123) # reproducible results\n",
    " \n",
    "\n",
    "df = pd.concat([BENIGN_label,DrDoS_NTP_sample])\n",
    " \n",
    "\n",
    "df[' Label'].value_counts()"
   ]
  },
  {
   "cell_type": "code",
   "execution_count": 7,
   "metadata": {},
   "outputs": [],
   "source": [
    "y = df[' Label'].values\n",
    "X = df.values"
   ]
  },
  {
   "cell_type": "code",
   "execution_count": 8,
   "metadata": {},
   "outputs": [
    {
     "data": {
      "text/plain": [
       "True"
      ]
     },
     "execution_count": 8,
     "metadata": {},
     "output_type": "execute_result"
    }
   ],
   "source": [
    "np.all(np.isfinite(X))\n"
   ]
  },
  {
   "cell_type": "code",
   "execution_count": 9,
   "metadata": {},
   "outputs": [
    {
     "data": {
      "text/plain": [
       "False"
      ]
     },
     "execution_count": 9,
     "metadata": {},
     "output_type": "execute_result"
    }
   ],
   "source": [
    "np.any(np.isnan(X))\n"
   ]
  },
  {
   "cell_type": "code",
   "execution_count": 10,
   "metadata": {},
   "outputs": [
    {
     "data": {
      "text/plain": [
       "1    7400\n",
       "0    3402\n",
       "Name:  Label, dtype: int64"
      ]
     },
     "execution_count": 10,
     "metadata": {},
     "output_type": "execute_result"
    }
   ],
   "source": [
    "df[' Label'].value_counts()\n"
   ]
  },
  {
   "cell_type": "code",
   "execution_count": 11,
   "metadata": {},
   "outputs": [],
   "source": [
    "X_scaled = scaler.fit_transform(X)\n"
   ]
  },
  {
   "cell_type": "code",
   "execution_count": 12,
   "metadata": {},
   "outputs": [],
   "source": [
    "from sklearn.model_selection import train_test_split\n",
    "X_train, X_test, y_train, y_test = train_test_split(X_scaled, y, train_size = 0.8, test_size = 0.2, random_state = 0)\n",
    "#X_train, X_val, y_train, y_val = train_test_split(X_train, y_train, test_size=0.25, random_state=42)"
   ]
  },
  {
   "cell_type": "code",
   "execution_count": 17,
   "metadata": {},
   "outputs": [],
   "source": [
    "import imblearn\n",
    "from imblearn.under_sampling import RandomUnderSampler\n",
    "samp_strat= { 0:2741, 1:5900}\n",
    "random_under= RandomUnderSampler(sampling_strategy=samp_strat,random_state=1)\n",
    "X_rus,y_rus = random_under.fit_resample(X_train,y_train)"
   ]
  },
  {
   "cell_type": "code",
   "execution_count": 20,
   "metadata": {},
   "outputs": [],
   "source": [
    "from imblearn.over_sampling import RandomOverSampler\n",
    "samp_strat= {  0:2741, 1:5900}\n",
    "random_under= RandomOverSampler(sampling_strategy=samp_strat,random_state=1)\n",
    "Xres,yres = random_under.fit_resample(X_rus,y_rus)"
   ]
  },
  {
   "cell_type": "code",
   "execution_count": 23,
   "metadata": {},
   "outputs": [],
   "source": [
    "from sklearn.ensemble import RandomForestRegressor\n",
    "from sklearn.inspection import permutation_importance\n",
    "import shap"
   ]
  },
  {
   "cell_type": "code",
   "execution_count": 24,
   "metadata": {},
   "outputs": [],
   "source": [
    "from sklearn.ensemble import RandomForestClassifier\n"
   ]
  },
  {
   "cell_type": "code",
   "execution_count": 25,
   "metadata": {},
   "outputs": [
    {
     "data": {
      "text/plain": [
       "RandomForestClassifier()"
      ]
     },
     "execution_count": 25,
     "metadata": {},
     "output_type": "execute_result"
    }
   ],
   "source": [
    "model = RandomForestClassifier()\n",
    "model.fit(X, y)"
   ]
  },
  {
   "cell_type": "code",
   "execution_count": 26,
   "metadata": {},
   "outputs": [
    {
     "data": {
      "text/plain": [
       "<AxesSubplot:>"
      ]
     },
     "execution_count": 26,
     "metadata": {},
     "output_type": "execute_result"
    },
    {
     "data": {
      "image/png": "[encoded data removed]",
      "text/plain": [
       "<Figure size 432x288 with 1 Axes>"
      ]
     },
     "metadata": {
      "needs_background": "light"
     },
     "output_type": "display_data"
    }
   ],
   "source": [
    "(pd.Series(model.feature_importances_, index=df.columns)\n",
    "   .nlargest(20)\n",
    "   .plot(kind='barh'))"
   ]
  },
  {
   "cell_type": "code",
   "execution_count": 27,
   "metadata": {},
   "outputs": [],
   "source": [
    "import seaborn as sns\n"
   ]
  },
  {
   "cell_type": "markdown",
   "metadata": {},
   "source": [
    "We have below variables which are higly correlated > 0.8 which will cause real problem, to fix it we will be performing PCA\n",
    "\n"
   ]
  },
  {
   "cell_type": "code",
   "execution_count": 28,
   "metadata": {},
   "outputs": [
    {
     "data": {
      "image/png": "[encoded data removed]",
      "text/plain": [
       "<Figure size 1440x1440 with 2 Axes>"
      ]
     },
     "metadata": {
      "needs_background": "light"
     },
     "output_type": "display_data"
    }
   ],
   "source": [
    "corrmat = df.corr()\n",
    "top_corr_features = corrmat[corrmat>=.8]\n",
    "plt.figure(figsize=(20,20))\n",
    "#plot heat map\n",
    "g=sns.heatmap(top_corr_features,cmap=\"RdYlGn\")\n",
    "        "
   ]
  },
  {
   "cell_type": "code",
   "execution_count": 29,
   "metadata": {},
   "outputs": [],
   "source": [
    "corre = df.corr()\n"
   ]
  },
  {
   "cell_type": "code",
   "execution_count": 30,
   "metadata": {},
   "outputs": [],
   "source": [
    "cor_target = abs(df[\" Label\"])\n"
   ]
  },
  {
   "cell_type": "code",
   "execution_count": 31,
   "metadata": {},
   "outputs": [
    {
     "data": {
      "text/plain": [
       "4970721    1\n",
       "279629     1\n",
       "4224884    1\n",
       "3165795    1\n",
       "1243074    1\n",
       "          ..\n",
       "4287462    1\n",
       "3478926    1\n",
       "3204439    1\n",
       "113610     1\n",
       "1375644    1\n",
       "Name:  Label, Length: 7400, dtype: int64"
      ]
     },
     "execution_count": 31,
     "metadata": {},
     "output_type": "execute_result"
    }
   ],
   "source": [
    "relevant_features = cor_target[cor_target>0.5]\n",
    "relevant_features"
   ]
  },
  {
   "cell_type": "code",
   "execution_count": 32,
   "metadata": {},
   "outputs": [
    {
     "data": {
      "text/html": [
       "<div>\n",
       "<style scoped>\n",
       "    .dataframe tbody tr th:only-of-type {\n",
       "        vertical-align: middle;\n",
       "    }\n",
       "\n",
       "    .dataframe tbody tr th {\n",
       "        vertical-align: top;\n",
       "    }\n",
       "\n",
       "    .dataframe thead th {\n",
       "        text-align: right;\n",
       "    }\n",
       "</style>\n",
       "<table border=\"1\" class=\"dataframe\">\n",
       "  <thead>\n",
       "    <tr style=\"text-align: right;\">\n",
       "      <th></th>\n",
       "      <th>Unnamed: 0</th>\n",
       "      <th>Unnamed: 0.1</th>\n",
       "      <th>Flow ID</th>\n",
       "      <th>Source IP</th>\n",
       "      <th>Source Port</th>\n",
       "      <th>Destination IP</th>\n",
       "      <th>Destination Port</th>\n",
       "      <th>Protocol</th>\n",
       "      <th>Timestamp</th>\n",
       "      <th>Flow Duration</th>\n",
       "      <th>...</th>\n",
       "      <th>Active Std</th>\n",
       "      <th>Active Max</th>\n",
       "      <th>Active Min</th>\n",
       "      <th>Idle Mean</th>\n",
       "      <th>Idle Std</th>\n",
       "      <th>Idle Max</th>\n",
       "      <th>Idle Min</th>\n",
       "      <th>SimillarHTTP</th>\n",
       "      <th>Inbound</th>\n",
       "      <th>Label</th>\n",
       "    </tr>\n",
       "  </thead>\n",
       "  <tbody>\n",
       "    <tr>\n",
       "      <th>Unnamed: 0</th>\n",
       "      <td>1.000000</td>\n",
       "      <td>0.224624</td>\n",
       "      <td>-0.021485</td>\n",
       "      <td>-0.021485</td>\n",
       "      <td>-0.188607</td>\n",
       "      <td>-0.021485</td>\n",
       "      <td>0.101836</td>\n",
       "      <td>0.144167</td>\n",
       "      <td>-0.021485</td>\n",
       "      <td>-0.074499</td>\n",
       "      <td>...</td>\n",
       "      <td>-0.015001</td>\n",
       "      <td>-0.041299</td>\n",
       "      <td>-0.043204</td>\n",
       "      <td>-0.081803</td>\n",
       "      <td>-0.029214</td>\n",
       "      <td>-0.082146</td>\n",
       "      <td>-0.080114</td>\n",
       "      <td>-0.021485</td>\n",
       "      <td>0.184865</td>\n",
       "      <td>0.214474</td>\n",
       "    </tr>\n",
       "    <tr>\n",
       "      <th>Unnamed: 0.1</th>\n",
       "      <td>0.224624</td>\n",
       "      <td>1.000000</td>\n",
       "      <td>-0.170332</td>\n",
       "      <td>-0.170332</td>\n",
       "      <td>-0.347627</td>\n",
       "      <td>-0.170332</td>\n",
       "      <td>0.191798</td>\n",
       "      <td>0.376463</td>\n",
       "      <td>-0.170332</td>\n",
       "      <td>-0.189688</td>\n",
       "      <td>...</td>\n",
       "      <td>-0.056699</td>\n",
       "      <td>-0.078108</td>\n",
       "      <td>-0.056692</td>\n",
       "      <td>-0.147923</td>\n",
       "      <td>-0.056940</td>\n",
       "      <td>-0.149145</td>\n",
       "      <td>-0.144297</td>\n",
       "      <td>-0.170332</td>\n",
       "      <td>0.364580</td>\n",
       "      <td>0.438559</td>\n",
       "    </tr>\n",
       "    <tr>\n",
       "      <th>Flow ID</th>\n",
       "      <td>-0.021485</td>\n",
       "      <td>-0.170332</td>\n",
       "      <td>1.000000</td>\n",
       "      <td>1.000000</td>\n",
       "      <td>0.014223</td>\n",
       "      <td>1.000000</td>\n",
       "      <td>0.001563</td>\n",
       "      <td>0.047767</td>\n",
       "      <td>1.000000</td>\n",
       "      <td>-0.002923</td>\n",
       "      <td>...</td>\n",
       "      <td>0.017433</td>\n",
       "      <td>0.019143</td>\n",
       "      <td>0.016995</td>\n",
       "      <td>0.006534</td>\n",
       "      <td>-0.010469</td>\n",
       "      <td>0.005024</td>\n",
       "      <td>0.008069</td>\n",
       "      <td>1.000000</td>\n",
       "      <td>0.017342</td>\n",
       "      <td>0.014184</td>\n",
       "    </tr>\n",
       "    <tr>\n",
       "      <th>Source IP</th>\n",
       "      <td>-0.021485</td>\n",
       "      <td>-0.170332</td>\n",
       "      <td>1.000000</td>\n",
       "      <td>1.000000</td>\n",
       "      <td>0.014223</td>\n",
       "      <td>1.000000</td>\n",
       "      <td>0.001563</td>\n",
       "      <td>0.047767</td>\n",
       "      <td>1.000000</td>\n",
       "      <td>-0.002923</td>\n",
       "      <td>...</td>\n",
       "      <td>0.017433</td>\n",
       "      <td>0.019143</td>\n",
       "      <td>0.016995</td>\n",
       "      <td>0.006534</td>\n",
       "      <td>-0.010469</td>\n",
       "      <td>0.005024</td>\n",
       "      <td>0.008069</td>\n",
       "      <td>1.000000</td>\n",
       "      <td>0.017342</td>\n",
       "      <td>0.014184</td>\n",
       "    </tr>\n",
       "    <tr>\n",
       "      <th>Source Port</th>\n",
       "      <td>-0.188607</td>\n",
       "      <td>-0.347627</td>\n",
       "      <td>0.014223</td>\n",
       "      <td>0.014223</td>\n",
       "      <td>1.000000</td>\n",
       "      <td>0.014223</td>\n",
       "      <td>-0.635708</td>\n",
       "      <td>-0.451134</td>\n",
       "      <td>0.014223</td>\n",
       "      <td>0.244935</td>\n",
       "      <td>...</td>\n",
       "      <td>0.045432</td>\n",
       "      <td>0.108314</td>\n",
       "      <td>0.101900</td>\n",
       "      <td>0.225185</td>\n",
       "      <td>0.036255</td>\n",
       "      <td>0.220859</td>\n",
       "      <td>0.225943</td>\n",
       "      <td>0.014223</td>\n",
       "      <td>-0.941646</td>\n",
       "      <td>-0.827275</td>\n",
       "    </tr>\n",
       "    <tr>\n",
       "      <th>...</th>\n",
       "      <td>...</td>\n",
       "      <td>...</td>\n",
       "      <td>...</td>\n",
       "      <td>...</td>\n",
       "      <td>...</td>\n",
       "      <td>...</td>\n",
       "      <td>...</td>\n",
       "      <td>...</td>\n",
       "      <td>...</td>\n",
       "      <td>...</td>\n",
       "      <td>...</td>\n",
       "      <td>...</td>\n",
       "      <td>...</td>\n",
       "      <td>...</td>\n",
       "      <td>...</td>\n",
       "      <td>...</td>\n",
       "      <td>...</td>\n",
       "      <td>...</td>\n",
       "      <td>...</td>\n",
       "      <td>...</td>\n",
       "      <td>...</td>\n",
       "    </tr>\n",
       "    <tr>\n",
       "      <th>Idle Max</th>\n",
       "      <td>-0.082146</td>\n",
       "      <td>-0.149145</td>\n",
       "      <td>0.005024</td>\n",
       "      <td>0.005024</td>\n",
       "      <td>0.220859</td>\n",
       "      <td>0.005024</td>\n",
       "      <td>-0.153537</td>\n",
       "      <td>-0.268168</td>\n",
       "      <td>0.005024</td>\n",
       "      <td>0.800866</td>\n",
       "      <td>...</td>\n",
       "      <td>0.200868</td>\n",
       "      <td>0.209759</td>\n",
       "      <td>0.148926</td>\n",
       "      <td>0.993360</td>\n",
       "      <td>0.381023</td>\n",
       "      <td>1.000000</td>\n",
       "      <td>0.975500</td>\n",
       "      <td>0.005024</td>\n",
       "      <td>-0.236528</td>\n",
       "      <td>-0.215726</td>\n",
       "    </tr>\n",
       "    <tr>\n",
       "      <th>Idle Min</th>\n",
       "      <td>-0.080114</td>\n",
       "      <td>-0.144297</td>\n",
       "      <td>0.008069</td>\n",
       "      <td>0.008069</td>\n",
       "      <td>0.225943</td>\n",
       "      <td>0.008069</td>\n",
       "      <td>-0.150047</td>\n",
       "      <td>-0.258950</td>\n",
       "      <td>0.008069</td>\n",
       "      <td>0.780520</td>\n",
       "      <td>...</td>\n",
       "      <td>0.187262</td>\n",
       "      <td>0.198631</td>\n",
       "      <td>0.144698</td>\n",
       "      <td>0.994074</td>\n",
       "      <td>0.172505</td>\n",
       "      <td>0.975500</td>\n",
       "      <td>1.000000</td>\n",
       "      <td>0.008069</td>\n",
       "      <td>-0.231225</td>\n",
       "      <td>-0.211316</td>\n",
       "    </tr>\n",
       "    <tr>\n",
       "      <th>SimillarHTTP</th>\n",
       "      <td>-0.021485</td>\n",
       "      <td>-0.170332</td>\n",
       "      <td>1.000000</td>\n",
       "      <td>1.000000</td>\n",
       "      <td>0.014223</td>\n",
       "      <td>1.000000</td>\n",
       "      <td>0.001563</td>\n",
       "      <td>0.047767</td>\n",
       "      <td>1.000000</td>\n",
       "      <td>-0.002923</td>\n",
       "      <td>...</td>\n",
       "      <td>0.017433</td>\n",
       "      <td>0.019143</td>\n",
       "      <td>0.016995</td>\n",
       "      <td>0.006534</td>\n",
       "      <td>-0.010469</td>\n",
       "      <td>0.005024</td>\n",
       "      <td>0.008069</td>\n",
       "      <td>1.000000</td>\n",
       "      <td>0.017342</td>\n",
       "      <td>0.014184</td>\n",
       "    </tr>\n",
       "    <tr>\n",
       "      <th>Inbound</th>\n",
       "      <td>0.184865</td>\n",
       "      <td>0.364580</td>\n",
       "      <td>0.017342</td>\n",
       "      <td>0.017342</td>\n",
       "      <td>-0.941646</td>\n",
       "      <td>0.017342</td>\n",
       "      <td>0.664488</td>\n",
       "      <td>0.560206</td>\n",
       "      <td>0.017342</td>\n",
       "      <td>-0.282716</td>\n",
       "      <td>...</td>\n",
       "      <td>-0.082380</td>\n",
       "      <td>-0.116264</td>\n",
       "      <td>-0.086951</td>\n",
       "      <td>-0.235749</td>\n",
       "      <td>-0.081048</td>\n",
       "      <td>-0.236528</td>\n",
       "      <td>-0.231225</td>\n",
       "      <td>0.017342</td>\n",
       "      <td>1.000000</td>\n",
       "      <td>0.869026</td>\n",
       "    </tr>\n",
       "    <tr>\n",
       "      <th>Label</th>\n",
       "      <td>0.214474</td>\n",
       "      <td>0.438559</td>\n",
       "      <td>0.014184</td>\n",
       "      <td>0.014184</td>\n",
       "      <td>-0.827275</td>\n",
       "      <td>0.014184</td>\n",
       "      <td>0.469821</td>\n",
       "      <td>0.747036</td>\n",
       "      <td>0.014184</td>\n",
       "      <td>-0.253851</td>\n",
       "      <td>...</td>\n",
       "      <td>-0.071847</td>\n",
       "      <td>-0.123998</td>\n",
       "      <td>-0.104238</td>\n",
       "      <td>-0.215216</td>\n",
       "      <td>-0.072614</td>\n",
       "      <td>-0.215726</td>\n",
       "      <td>-0.211316</td>\n",
       "      <td>0.014184</td>\n",
       "      <td>0.869026</td>\n",
       "      <td>1.000000</td>\n",
       "    </tr>\n",
       "  </tbody>\n",
       "</table>\n",
       "<p>89 rows × 89 columns</p>\n",
       "</div>"
      ],
      "text/plain": [
       "              Unnamed: 0  Unnamed: 0.1   Flow ID   Source IP   Source Port  \\\n",
       "Unnamed: 0      1.000000      0.224624 -0.021485   -0.021485     -0.188607   \n",
       "Unnamed: 0.1    0.224624      1.000000 -0.170332   -0.170332     -0.347627   \n",
       "Flow ID        -0.021485     -0.170332  1.000000    1.000000      0.014223   \n",
       " Source IP     -0.021485     -0.170332  1.000000    1.000000      0.014223   \n",
       " Source Port   -0.188607     -0.347627  0.014223    0.014223      1.000000   \n",
       "...                  ...           ...       ...         ...           ...   \n",
       " Idle Max      -0.082146     -0.149145  0.005024    0.005024      0.220859   \n",
       " Idle Min      -0.080114     -0.144297  0.008069    0.008069      0.225943   \n",
       "SimillarHTTP   -0.021485     -0.170332  1.000000    1.000000      0.014223   \n",
       " Inbound        0.184865      0.364580  0.017342    0.017342     -0.941646   \n",
       " Label          0.214474      0.438559  0.014184    0.014184     -0.827275   \n",
       "\n",
       "               Destination IP   Destination Port   Protocol   Timestamp  \\\n",
       "Unnamed: 0          -0.021485           0.101836   0.144167   -0.021485   \n",
       "Unnamed: 0.1        -0.170332           0.191798   0.376463   -0.170332   \n",
       "Flow ID              1.000000           0.001563   0.047767    1.000000   \n",
       " Source IP           1.000000           0.001563   0.047767    1.000000   \n",
       " Source Port         0.014223          -0.635708  -0.451134    0.014223   \n",
       "...                       ...                ...        ...         ...   \n",
       " Idle Max            0.005024          -0.153537  -0.268168    0.005024   \n",
       " Idle Min            0.008069          -0.150047  -0.258950    0.008069   \n",
       "SimillarHTTP         1.000000           0.001563   0.047767    1.000000   \n",
       " Inbound             0.017342           0.664488   0.560206    0.017342   \n",
       " Label               0.014184           0.469821   0.747036    0.014184   \n",
       "\n",
       "               Flow Duration  ...   Active Std   Active Max   Active Min  \\\n",
       "Unnamed: 0         -0.074499  ...    -0.015001    -0.041299    -0.043204   \n",
       "Unnamed: 0.1       -0.189688  ...    -0.056699    -0.078108    -0.056692   \n",
       "Flow ID            -0.002923  ...     0.017433     0.019143     0.016995   \n",
       " Source IP         -0.002923  ...     0.017433     0.019143     0.016995   \n",
       " Source Port        0.244935  ...     0.045432     0.108314     0.101900   \n",
       "...                      ...  ...          ...          ...          ...   \n",
       " Idle Max           0.800866  ...     0.200868     0.209759     0.148926   \n",
       " Idle Min           0.780520  ...     0.187262     0.198631     0.144698   \n",
       "SimillarHTTP       -0.002923  ...     0.017433     0.019143     0.016995   \n",
       " Inbound           -0.282716  ...    -0.082380    -0.116264    -0.086951   \n",
       " Label             -0.253851  ...    -0.071847    -0.123998    -0.104238   \n",
       "\n",
       "              Idle Mean   Idle Std   Idle Max   Idle Min  SimillarHTTP  \\\n",
       "Unnamed: 0    -0.081803  -0.029214  -0.082146  -0.080114     -0.021485   \n",
       "Unnamed: 0.1  -0.147923  -0.056940  -0.149145  -0.144297     -0.170332   \n",
       "Flow ID        0.006534  -0.010469   0.005024   0.008069      1.000000   \n",
       " Source IP     0.006534  -0.010469   0.005024   0.008069      1.000000   \n",
       " Source Port   0.225185   0.036255   0.220859   0.225943      0.014223   \n",
       "...                 ...        ...        ...        ...           ...   \n",
       " Idle Max      0.993360   0.381023   1.000000   0.975500      0.005024   \n",
       " Idle Min      0.994074   0.172505   0.975500   1.000000      0.008069   \n",
       "SimillarHTTP   0.006534  -0.010469   0.005024   0.008069      1.000000   \n",
       " Inbound      -0.235749  -0.081048  -0.236528  -0.231225      0.017342   \n",
       " Label        -0.215216  -0.072614  -0.215726  -0.211316      0.014184   \n",
       "\n",
       "               Inbound     Label  \n",
       "Unnamed: 0    0.184865  0.214474  \n",
       "Unnamed: 0.1  0.364580  0.438559  \n",
       "Flow ID       0.017342  0.014184  \n",
       " Source IP    0.017342  0.014184  \n",
       " Source Port -0.941646 -0.827275  \n",
       "...                ...       ...  \n",
       " Idle Max    -0.236528 -0.215726  \n",
       " Idle Min    -0.231225 -0.211316  \n",
       "SimillarHTTP  0.017342  0.014184  \n",
       " Inbound      1.000000  0.869026  \n",
       " Label        0.869026  1.000000  \n",
       "\n",
       "[89 rows x 89 columns]"
      ]
     },
     "execution_count": 32,
     "metadata": {},
     "output_type": "execute_result"
    }
   ],
   "source": [
    "df.corr()\n"
   ]
  },
  {
   "cell_type": "markdown",
   "metadata": {},
   "source": [
    "Here we had to use PCA after standrizing the data and get over .95 of the explained varaince\n",
    "\n"
   ]
  },
  {
   "cell_type": "code",
   "execution_count": 33,
   "metadata": {},
   "outputs": [],
   "source": [
    "\n",
    "from sklearn.decomposition import PCA\n",
    "pca = PCA(n_components = 0.95)\n",
    "pca.fit(X_scaled)\n",
    "reduced = pca.transform(X_scaled)"
   ]
  },
  {
   "cell_type": "code",
   "execution_count": 34,
   "metadata": {},
   "outputs": [
    {
     "name": "stdout",
     "output_type": "stream",
     "text": [
      "total length =  2161\n",
      "BENIGN =  1500\n",
      "DrDoS_NTP =  661\n"
     ]
    },
    {
     "data": {
      "image/png": "[encoded data removed]",
      "text/plain": [
       "<Figure size 900x600 with 1 Axes>"
      ]
     },
     "metadata": {
      "needs_background": "light"
     },
     "output_type": "display_data"
    }
   ],
   "source": [
    "checking_occurences = [X for X in y_test if X == 1]\n",
    "print(\"total length = \",len(y_test))\n",
    "print(\"BENIGN = \",len(checking_occurences))\n",
    "print(\"DrDoS_NTP = \", (len(y_test) - len(checking_occurences)))\n",
    "n = len(y_test) - len(checking_occurences)\n",
    "a = len(checking_occurences)\n",
    "\n",
    "label = ['BENIGN', 'DrDoS_NTP']\n",
    "samples = [n, a]\n",
    "\n",
    "default_dpi = mpl.rcParamsDefault['figure.dpi']\n",
    "mpl.rcParams['figure.dpi'] = default_dpi * 1.5\n",
    "\n",
    "# this is for plotting purpose\n",
    "index = np.arange(len(label))\n",
    "plt.bar(index, samples)\n",
    "plt.xlabel('Payload Types', fontsize=10)\n",
    "plt.ylabel('Samples', fontsize=10)\n",
    "plt.xticks(index, label, fontsize=10, rotation=0)\n",
    "plt.title('Samples identified')\n",
    "plt.show()"
   ]
  },
  {
   "cell_type": "code",
   "execution_count": 35,
   "metadata": {},
   "outputs": [],
   "source": [
    "\n",
    "from sklearn.ensemble import IsolationForest\n",
    "iForest = IsolationForest()"
   ]
  },
  {
   "cell_type": "code",
   "execution_count": 36,
   "metadata": {},
   "outputs": [
    {
     "data": {
      "text/plain": [
       "1    7400\n",
       "0    3402\n",
       "Name:  Label, dtype: int64"
      ]
     },
     "execution_count": 36,
     "metadata": {},
     "output_type": "execute_result"
    }
   ],
   "source": [
    "df[' Label'].value_counts()\n"
   ]
  },
  {
   "cell_type": "code",
   "execution_count": 37,
   "metadata": {},
   "outputs": [
    {
     "data": {
      "text/plain": [
       "IsolationForest()"
      ]
     },
     "execution_count": 37,
     "metadata": {},
     "output_type": "execute_result"
    }
   ],
   "source": [
    "iForest.fit(X_train)\n"
   ]
  },
  {
   "cell_type": "code",
   "execution_count": 38,
   "metadata": {},
   "outputs": [],
   "source": [
    "#scores = iForest.decision_function(X_val)\n"
   ]
  },
  {
   "cell_type": "code",
   "execution_count": 39,
   "metadata": {},
   "outputs": [],
   "source": [
    "#scores\n"
   ]
  },
  {
   "cell_type": "code",
   "execution_count": 40,
   "metadata": {},
   "outputs": [],
   "source": [
    "#plt.figure(figsize=(12,8))\n",
    "#plt.hist(scores, bins=100);"
   ]
  },
  {
   "cell_type": "code",
   "execution_count": 41,
   "metadata": {},
   "outputs": [],
   "source": [
    "cutoff = -0.07\n"
   ]
  },
  {
   "cell_type": "code",
   "execution_count": 42,
   "metadata": {},
   "outputs": [
    {
     "name": "stderr",
     "output_type": "stream",
     "text": [
      "divide by zero encountered in log2\n"
     ]
    },
    {
     "name": "stdout",
     "output_type": "stream",
     "text": [
      "         Unnamed: 0  Unnamed: 0.1  Flow ID   Source IP   Source Port  \\\n",
      "27               27           123     2558        2558         59099   \n",
      "31               31            23    14446       14446         59102   \n",
      "53               53           126     2891        2891             0   \n",
      "93               93            91    27184       27184         59155   \n",
      "94               94            87    26739       26739         59131   \n",
      "...             ...           ...      ...         ...           ...   \n",
      "4287462     4287462         26053    17840       17840           767   \n",
      "3478926     3478926         17889     8767        8767           604   \n",
      "3204439     3204439         23104    14564       14564           867   \n",
      "113610       113610         18414     9352        9352           666   \n",
      "1375644     1375644         23822    15361       15361          1001   \n",
      "\n",
      "          Destination IP   Destination Port   Protocol   Timestamp  \\\n",
      "27                  2558                 80          6        2558   \n",
      "31                 14446                443          6       14446   \n",
      "53                  2891                  0          0        2891   \n",
      "93                 27184                 80          6       27184   \n",
      "94                 26739                 80          6       26739   \n",
      "...                  ...                ...        ...         ...   \n",
      "4287462            17840              16304         17       17840   \n",
      "3478926             8767              62286         17        8767   \n",
      "3204439            14564              58562         17       14564   \n",
      "113610              9352              17729         17        9352   \n",
      "1375644            15361              17098         17       15361   \n",
      "\n",
      "          Flow Duration  ...     Idle Mean       Idle Std    Idle Max  \\\n",
      "27            110861755  ...  9.863210e+06  413171.813769  10007500.0   \n",
      "31             40335006  ...  9.993447e+06   40495.753715  10018634.0   \n",
      "53            113244633  ...  9.188876e+06  809901.667647   9882838.0   \n",
      "93             95628949  ...  1.001418e+07    5184.077926  10016037.0   \n",
      "94             95613243  ...  1.000431e+07      21.430119  10004365.0   \n",
      "...                 ...  ...           ...            ...         ...   \n",
      "4287462               1  ...  0.000000e+00       0.000000         0.0   \n",
      "3478926               1  ...  0.000000e+00       0.000000         0.0   \n",
      "3204439               1  ...  0.000000e+00       0.000000         0.0   \n",
      "113610                1  ...  0.000000e+00       0.000000         0.0   \n",
      "1375644               1  ...  0.000000e+00       0.000000         0.0   \n",
      "\n",
      "           Idle Min  SimillarHTTP   Inbound   Label  log2_value1  log2_value2  \\\n",
      "27        8632089.0          2558         0       0    26.724187    11.320801   \n",
      "31        9933709.0         14446         0       0    25.265529    13.818382   \n",
      "53        6781893.0          2891         0       0    26.754867    11.497353   \n",
      "93       10000366.0         27184         0       0    26.510944    14.730470   \n",
      "94       10004289.0         26739         0       0    26.510707    14.706658   \n",
      "...             ...           ...       ...     ...          ...          ...   \n",
      "4287462         0.0         17840         1       1     0.000000    14.122828   \n",
      "3478926         0.0          8767         1       1     0.000000    13.097868   \n",
      "3204439         0.0         14564         1       1     0.000000    13.830119   \n",
      "113610          0.0          9352         1       1     0.000000    13.191059   \n",
      "1375644         0.0         15361         1       1     0.000000    13.906985   \n",
      "\n",
      "         log2_value3  \n",
      "27          2.584963  \n",
      "31          2.584963  \n",
      "53              -inf  \n",
      "93          2.584963  \n",
      "94          2.584963  \n",
      "...              ...  \n",
      "4287462     4.087463  \n",
      "3478926     4.087463  \n",
      "3204439     4.087463  \n",
      "113610      4.087463  \n",
      "1375644     4.087463  \n",
      "\n",
      "[10802 rows x 92 columns]\n"
     ]
    }
   ],
   "source": [
    "df['log2_value1'] = np.log2(df[' Flow Duration'])\n",
    "df['log2_value2'] = np.log2(df[' Source IP'])\n",
    "df['log2_value3'] = np.log2(df[' Destination IP'])\n",
    "df['log2_value3'] = np.log2(df[' Destination Port'])\n",
    "df['log2_value3'] = np.log2(df[' Protocol'])\n",
    "\n",
    "print(df)"
   ]
  },
  {
   "cell_type": "code",
   "execution_count": 44,
   "metadata": {},
   "outputs": [
    {
     "name": "stderr",
     "output_type": "stream",
     "text": [
      "The use of label encoder in XGBClassifier is deprecated and will be removed in a future release. To remove this warning, do the following: 1) Pass option use_label_encoder=False when constructing XGBClassifier object; and 2) Encode your labels (y) as integers starting with 0, i.e. 0, 1, 2, ..., [num_class - 1].\n"
     ]
    },
    {
     "name": "stdout",
     "output_type": "stream",
     "text": [
      "[19:04:27] WARNING: C:/Users/Administrator/workspace/xgboost-win64_release_1.4.0/src/learner.cc:1095: Starting in XGBoost 1.3.0, the default evaluation metric used with the objective 'binary:logistic' was changed from 'error' to 'logloss'. Explicitly set eval_metric if you'd like to restore the old behavior.\n",
      "Accuracy of base model:  1.0\n"
     ]
    }
   ],
   "source": [
    "from xgboost import XGBClassifier\n",
    "model_1 = XGBClassifier(random_state = 42)\n",
    "model_1.fit(Xres,yres)\n",
    "pred_1 = model_1.predict(X_test)\n",
    "score1 = model_1.score(X_test,y_test)\n",
    "print(\"Accuracy of base model: \",score1)"
   ]
  },
  {
   "cell_type": "code",
   "execution_count": 45,
   "metadata": {},
   "outputs": [],
   "source": [
    "from sklearn.model_selection import GridSearchCV"
   ]
  },
  {
   "cell_type": "code",
   "execution_count": 46,
   "metadata": {},
   "outputs": [],
   "source": [
    "params={'max_depth':[5], 'n_estimators': [200,300,400],\n",
    "            'learning_rate': [0.15,0.20], 'subsample':[0.3,0.5,0.7]}"
   ]
  },
  {
   "cell_type": "code",
   "execution_count": 47,
   "metadata": {},
   "outputs": [],
   "source": [
    "model_2 = GridSearchCV(XGBClassifier(),params,refit=True,verbose=3)\n"
   ]
  },
  {
   "cell_type": "code",
   "execution_count": 48,
   "metadata": {},
   "outputs": [
    {
     "ename": "NameError",
     "evalue": "name 'yre' is not defined",
     "output_type": "error",
     "traceback": [
      "\u001b[1;31m---------------------------------------------------------------------------\u001b[0m",
      "\u001b[1;31mNameError\u001b[0m                                 Traceback (most recent call last)",
      "\u001b[1;32m<ipython-input-48-7a450b72d6f4>\u001b[0m in \u001b[0;36m<module>\u001b[1;34m\u001b[0m\n\u001b[1;32m----> 1\u001b[1;33m \u001b[0mmodel_2\u001b[0m\u001b[1;33m.\u001b[0m\u001b[0mfit\u001b[0m\u001b[1;33m(\u001b[0m\u001b[0mXres\u001b[0m\u001b[1;33m,\u001b[0m\u001b[0myre\u001b[0m\u001b[1;33m)\u001b[0m\u001b[1;33m\u001b[0m\u001b[1;33m\u001b[0m\u001b[0m\n\u001b[0m",
      "\u001b[1;31mNameError\u001b[0m: name 'yre' is not defined"
     ]
    }
   ],
   "source": [
    "model_2.fit(Xres,yre)\n"
   ]
  },
  {
   "cell_type": "code",
   "execution_count": 49,
   "metadata": {},
   "outputs": [
    {
     "ename": "AttributeError",
     "evalue": "'GridSearchCV' object has no attribute 'best_params_'",
     "output_type": "error",
     "traceback": [
      "\u001b[1;31m---------------------------------------------------------------------------\u001b[0m",
      "\u001b[1;31mAttributeError\u001b[0m                            Traceback (most recent call last)",
      "\u001b[1;32m<ipython-input-49-d66db70cc881>\u001b[0m in \u001b[0;36m<module>\u001b[1;34m\u001b[0m\n\u001b[1;32m----> 1\u001b[1;33m \u001b[0mmodel_2\u001b[0m\u001b[1;33m.\u001b[0m\u001b[0mbest_params_\u001b[0m\u001b[1;33m\u001b[0m\u001b[1;33m\u001b[0m\u001b[0m\n\u001b[0m",
      "\u001b[1;31mAttributeError\u001b[0m: 'GridSearchCV' object has no attribute 'best_params_'"
     ]
    }
   ],
   "source": [
    "model_2.best_params_\n"
   ]
  },
  {
   "cell_type": "code",
   "execution_count": null,
   "metadata": {},
   "outputs": [],
   "source": [
    "model_2.best_estimator_\n"
   ]
  },
  {
   "cell_type": "code",
   "execution_count": null,
   "metadata": {},
   "outputs": [],
   "source": [
    "pred_2 = model_2.predict(X_test)\n"
   ]
  },
  {
   "cell_type": "code",
   "execution_count": null,
   "metadata": {},
   "outputs": [],
   "source": [
    "score_2 = model_2.score(X_test,y_test)\n",
    "print(\"Accuracy of 1st test model: \",score_2*100)"
   ]
  },
  {
   "cell_type": "code",
   "execution_count": null,
   "metadata": {},
   "outputs": [],
   "source": [
    "\n",
    "params_new={'max_depth':[4], 'n_estimators': [200,300],\n",
    "           'learning_rate': [0.05,0.1], 'subsample':[0.5,0.7]}"
   ]
  },
  {
   "cell_type": "code",
   "execution_count": null,
   "metadata": {},
   "outputs": [],
   "source": [
    "model_3 = GridSearchCV(XGBClassifier(),params_new,refit=True,verbose=3,\n",
    "                       n_jobs=-1)"
   ]
  },
  {
   "cell_type": "code",
   "execution_count": null,
   "metadata": {},
   "outputs": [],
   "source": [
    "model_3.fit(Xres,yres)"
   ]
  },
  {
   "cell_type": "code",
   "execution_count": null,
   "metadata": {},
   "outputs": [],
   "source": []
  },
  {
   "cell_type": "code",
   "execution_count": null,
   "metadata": {},
   "outputs": [],
   "source": [
    "from tensorflow import keras\n",
    "import numpy as np\n",
    "import datetime\n",
    "import time\n",
    "x=pd.DataFrame(reduced)\n",
    "x = x.values\n",
    "sample = x.shape[0]\n",
    "features = x.shape[1]\n",
    "#Train: convert 2D to 3D for input RNN\n",
    "x_train = np.reshape(x,(sample,features,1)) #shape  = (125973, 18, 1)\n",
    "#Test: convert 2D to 3D for input RNN\n",
    "x_test=pd.DataFrame(X_test)\n",
    "x_test = x_test.values\n",
    "x_test = np.reshape(x_test,(x_test.shape[0],x_test.shape[1],1))"
   ]
  },
  {
   "cell_type": "code",
   "execution_count": null,
   "metadata": {},
   "outputs": [],
   "source": [
    "from tensorflow.keras.layers import Dense,Dropout,LSTM,Embedding,SimpleRNN, GRU,Activation,Flatten\n",
    "from sklearn.metrics import (precision_score, recall_score,confusion_matrix,f1_score, accuracy_score,mean_squared_error,mean_absolute_error)\n",
    "from tensorflow.keras.models import Sequential, load_model\n",
    "from tensorflow.keras.callbacks import ModelCheckpoint, EarlyStopping,CSVLogger\n",
    "from tensorflow.keras import callbacks\n",
    "import scikitplot as skplt"
   ]
  },
  {
   "cell_type": "markdown",
   "metadata": {},
   "source": [
    "### RNN"
   ]
  },
  {
   "cell_type": "code",
   "execution_count": null,
   "metadata": {},
   "outputs": [],
   "source": [
    "\n",
    "batch_size = 32\n",
    "model_rnn = Sequential()\n",
    "model_rnn.add(SimpleRNN(8,input_shape=(features,x_train.shape[2]), return_sequences=True))  \n",
    "model_rnn.add(Dropout(0.1))\n",
    "model_rnn.add(SimpleRNN(8, return_sequences=False))  \n",
    "model_rnn.add(Dropout(0.1))\n",
    "model_rnn.add(Dense(1))\n",
    "model_rnn.add(Activation('sigmoid'))"
   ]
  },
  {
   "cell_type": "code",
   "execution_count": null,
   "metadata": {},
   "outputs": [],
   "source": [
    "\n",
    "model_rnn.compile(loss='binary_crossentropy',optimizer='Adadelta',metrics=['acc'])\n",
    "es = EarlyStopping(monitor='val_accuracy', mode='max', min_delta=0.0001,patience=5) \n",
    "Echeckpointer = callbacks.ModelCheckpoint(filepath=\"RNN-checkpoint-{epoch:02d}.hdf5\", verbose=1, save_best_only=True, monitor='val_acc',mode='max')\n",
    "model_rnn.fit(x_train, y, batch_size=batch_size, epochs=10, validation_data=(x_test, y_test),callbacks=[es])\n",
    "model_rnn.save(\"best_model_rnn.hdf5\")"
   ]
  },
  {
   "cell_type": "code",
   "execution_count": null,
   "metadata": {},
   "outputs": [],
   "source": [
    "scores = model_rnn.evaluate(x_test, y_test, verbose=0)\n",
    "print(\"Accuracy: %.2f%%\" % (scores[1]*100))"
   ]
  },
  {
   "cell_type": "code",
   "execution_count": null,
   "metadata": {},
   "outputs": [],
   "source": [
    "y_pred_rnn = model_rnn.predict_classes(x_test)\n",
    "y_probs_rnn=model_rnn.predict_proba(x_test)\n",
    "np.savetxt('rnn_predictions.txt', np.transpose(np.concatenate((y_test.reshape((y_test.size, 1)),y_pred_rnn), axis=1)), fmt='%01d')\n",
    "np.savetxt('rnn_prob_predictions.txt', np.around(np.transpose(y_probs_rnn),decimals=5), fmt='%.5f')"
   ]
  },
  {
   "cell_type": "code",
   "execution_count": null,
   "metadata": {},
   "outputs": [],
   "source": [
    "skplt.metrics.plot_confusion_matrix(y_test, y_pred_rnn)\n",
    "plt.title(\"RNN-Confusion Matrix\")\n",
    "plt.rcParams['figure.figsize']=(5,4)\n",
    "plt.show()"
   ]
  },
  {
   "cell_type": "code",
   "execution_count": null,
   "metadata": {},
   "outputs": [],
   "source": [
    "batch_size=32\n"
   ]
  },
  {
   "cell_type": "markdown",
   "metadata": {},
   "source": [
    "### LSTM"
   ]
  },
  {
   "cell_type": "code",
   "execution_count": null,
   "metadata": {},
   "outputs": [],
   "source": [
    "model_lstm = Sequential()\n",
    "model_lstm.add(LSTM(8,input_shape=(features,x_train.shape[2]), return_sequences=True))  \n",
    "model_lstm.add(Dropout(0.1))\n",
    "model_lstm.add(LSTM(8, return_sequences=False))  \n",
    "model_lstm.add(Dropout(0.1))\n",
    "model_lstm.add(Dense(1))\n",
    "model_lstm.add(Activation('sigmoid'))"
   ]
  },
  {
   "cell_type": "code",
   "execution_count": null,
   "metadata": {},
   "outputs": [],
   "source": [
    "\n",
    "model_lstm.compile(loss='binary_crossentropy',optimizer='SGD',metrics=['acc'])\n",
    "es = EarlyStopping(monitor='val_accuracy', mode='max', min_delta=0.0001,patience=5) ## early stoppoing\n",
    "\n",
    "\n",
    "model_lstm.fit(x_train, y, batch_size=batch_size, epochs=10, validation_data=(x_test, y_test),callbacks=[es])\n",
    "model_lstm.save(\"lstm_model_lstm.hdf5\")"
   ]
  },
  {
   "cell_type": "code",
   "execution_count": null,
   "metadata": {},
   "outputs": [],
   "source": [
    "y_pred_lstm = model_lstm.predict_classes(x_test)\n",
    "y_probs_lstm=model_lstm.predict_proba(x_test)\n",
    "np.savetxt('lstm_predictions.txt', np.transpose(np.concatenate((y_test.reshape((y_test.size, 1)),y_pred_lstm), axis=1)), fmt='%01d')\n",
    "np.savetxt('lstm_prob_predictions.txt', np.around(np.transpose(y_probs_lstm),decimals=5), fmt='%.5f')\n",
    "\n",
    "\n",
    "######Plot confusion matrix\n",
    "\n",
    "skplt.metrics.plot_confusion_matrix(y_test, y_pred_lstm)\n",
    "plt.title(\"LSTM-Confusion Matrix\")\n",
    "plt.show()"
   ]
  },
  {
   "cell_type": "code",
   "execution_count": null,
   "metadata": {},
   "outputs": [],
   "source": [
    "scores = model_lstm.evaluate(x_test, y_test, verbose=0)\n",
    "print(\"Accuracy: %.2f%%\" % (scores[1]*100))"
   ]
  },
  {
   "cell_type": "code",
   "execution_count": null,
   "metadata": {},
   "outputs": [],
   "source": [
    "accuracy = accuracy_score(y_test, y_pred_lstm)\n",
    "print(\"accuracy:\",accuracy)\n",
    "f1score=f1_score(y_test, y_pred_lstm)\n",
    "print(\"f1-acore:\",f1score)\n",
    "cm=confusion_matrix(y_test, y_pred_lstm)\n",
    "print(\"confusion matrix:\\n\",cm)\n",
    "pr=precision_score(y_test,y_pred_lstm)\n",
    "print(\"Precision:\",pr)\n",
    "rs=recall_score(y_test,y_pred_lstm)\n",
    "print(\"Recall_score:\",rs)"
   ]
  },
  {
   "cell_type": "code",
   "execution_count": null,
   "metadata": {},
   "outputs": [],
   "source": []
  }
 ],
 "metadata": {
  "kernelspec": {
   "display_name": "Python 3",
   "language": "python",
   "name": "python3"
  },
  "language_info": {
   "codemirror_mode": {
    "name": "ipython",
    "version": 3
   },
   "file_extension": ".py",
   "mimetype": "text/x-python",
   "name": "python",
   "nbconvert_exporter": "python",
   "pygments_lexer": "ipython3",
   "version": "3.7.4"
  }
 },
 "nbformat": 4,
 "nbformat_minor": 2
}
